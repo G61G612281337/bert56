{
  "nbformat": 4,
  "nbformat_minor": 0,
  "metadata": {
    "colab": {
      "name": "load.ipynb",
      "provenance": [],
      "collapsed_sections": []
    },
    "kernelspec": {
      "name": "python3",
      "display_name": "Python 3"
    },
    "language_info": {
      "name": "python"
    },
    "accelerator": "GPU"
  },
  "cells": [
    {
      "cell_type": "code",
      "execution_count": null,
      "metadata": {
        "id": "SmDimZiRiiAN"
      },
      "outputs": [],
      "source": [
        "!pip install top2vec"
      ]
    },
    {
      "cell_type": "code",
      "source": [
        "from top2vec import Top2Vec\n"
      ],
      "metadata": {
        "id": "DXfE3WvLj9Dq"
      },
      "execution_count": null,
      "outputs": []
    },
    {
      "cell_type": "code",
      "source": [
        "from google.colab import drive\n",
        "drive.mount('/content/gdrive/')"
      ],
      "metadata": {
        "colab": {
          "base_uri": "https://localhost:8080/"
        },
        "id": "2cnwgua0j9Gl",
        "outputId": "762eac8e-f1cf-4f0d-ba41-384813895f75"
      },
      "execution_count": null,
      "outputs": [
        {
          "output_type": "stream",
          "name": "stdout",
          "text": [
            "Mounted at /content/gdrive/\n"
          ]
        }
      ]
    },
    {
      "cell_type": "code",
      "source": [
        "DOCS = []"
      ],
      "metadata": {
        "id": "5vJJXWLUj9Iz"
      },
      "execution_count": null,
      "outputs": []
    },
    {
      "cell_type": "code",
      "source": [
        "DATA_PATH = [f'data med/CardioJ/cardio',\n",
        "             f'data med/Pirogov/PirogovJournal',\n",
        "             f'data med/SechenovJournal/Sechenov',\n",
        "             f'data med/gastroJ/gastro',\n",
        "             f'data med/txtKazanFiles1/KazMedJour',\n",
        "             f'data med/txtKazanFiles1/KazMedLinks',\n",
        "             f'data med/urology/urology',\n",
        "             f'data med/Болевой синдром/',\n",
        "             f'data med/Болезни дых. путей/',\n",
        "             f'data med/Болезни органов пищеварения/',\n",
        "             f'data med/Российская ринология',\n",
        "             f'data med/Российский журнал боли',\n",
        "             f'data med/журнал Флебология',\n",
        "             f'data med/Тексты']"
      ],
      "metadata": {
        "id": "j5N3yAeOj9Lr"
      },
      "execution_count": null,
      "outputs": []
    },
    {
      "cell_type": "code",
      "source": [
        "def DATA_LOADER(PATH,*, START = 1, END = 4000):\n",
        "  for item in range(START, END):\n",
        "    try:\n",
        "      file = open(f'/content/gdrive/MyDrive/{PATH}{item}.txt', 'r', encoding='utf-8')\n",
        "      DOCS.append(file.read())\n",
        "    except FileNotFoundError:\n",
        "      continue "
      ],
      "metadata": {
        "id": "Rz3ei-VZj9PE"
      },
      "execution_count": null,
      "outputs": []
    },
    {
      "cell_type": "code",
      "source": [
        "for catalog_data in DATA_PATH:\n",
        "  DATA_LOADER(catalog_data,START=1, END=1000)"
      ],
      "metadata": {
        "id": "X4wfEA69o_qn"
      },
      "execution_count": null,
      "outputs": []
    },
    {
      "cell_type": "code",
      "source": [
        "len(DOCS)"
      ],
      "metadata": {
        "colab": {
          "base_uri": "https://localhost:8080/"
        },
        "id": "j--HGO09o_tr",
        "outputId": "85047481-4ae0-45b1-ef25-ca8ba9cdc08d"
      },
      "execution_count": null,
      "outputs": [
        {
          "output_type": "execute_result",
          "data": {
            "text/plain": [
              "7020"
            ]
          },
          "metadata": {},
          "execution_count": 17
        }
      ]
    },
    {
      "cell_type": "code",
      "source": [
        "DATA_LOADER(f'med_txt/page')"
      ],
      "metadata": {
        "id": "u6g_u5SWo_wj"
      },
      "execution_count": null,
      "outputs": []
    },
    {
      "cell_type": "code",
      "source": [
        "def DATA_LOADER_FOR_TEXT(PATH,*, START = 1, END = 4000):\n",
        "  for item in range(START, END):\n",
        "    try:\n",
        "      file = open(f'/content/gdrive/MyDrive/{PATH}{item}.text', 'r', encoding='utf-8')\n",
        "      DOCS.append(file.read())\n",
        "    except FileNotFoundError:\n",
        "      continue "
      ],
      "metadata": {
        "id": "szvUA-UtsQ4W"
      },
      "execution_count": null,
      "outputs": []
    },
    {
      "cell_type": "code",
      "source": [
        "DATA_LOADER_FOR_TEXT(f'med_txt2/text')"
      ],
      "metadata": {
        "id": "fcPOCKVLsQ7g"
      },
      "execution_count": null,
      "outputs": []
    },
    {
      "cell_type": "code",
      "source": [
        "topic_to_vectors_model = Top2Vec(documents=DOCS, embedding_model='doc2vec', speed='deep-learn')"
      ],
      "metadata": {
        "colab": {
          "base_uri": "https://localhost:8080/"
        },
        "id": "_eMJIAFBsQ-0",
        "outputId": "ccefcc67-f9fb-49c8-8098-f2848f4c16fd"
      },
      "execution_count": null,
      "outputs": [
        {
          "metadata": {
            "tags": null
          },
          "name": "stderr",
          "output_type": "stream",
          "text": [
            "2021-12-09 10:53:37,690 - top2vec - INFO - Pre-processing documents for training\n",
            "2021-12-09 10:54:29,036 - top2vec - INFO - Creating joint document/word embedding\n"
          ]
        }
      ]
    },
    {
      "cell_type": "code",
      "source": [
        "topic_to_"
      ],
      "metadata": {
        "id": "Fqr9CMjGxB0K"
      },
      "execution_count": null,
      "outputs": []
    },
    {
      "cell_type": "code",
      "source": [
        "topic_to_vectors_model.get_num_topics()"
      ],
      "metadata": {
        "id": "tDrmOLeMxqSY"
      },
      "execution_count": null,
      "outputs": []
    }
  ]
}