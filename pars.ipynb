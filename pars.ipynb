{
  "nbformat": 4,
  "nbformat_minor": 0,
  "metadata": {
    "colab": {
      "name": "pars.ipynb",
      "provenance": [],
      "collapsed_sections": []
    },
    "kernelspec": {
      "name": "python3",
      "display_name": "Python 3"
    },
    "language_info": {
      "name": "python"
    }
  },
  "cells": [
    {
      "cell_type": "code",
      "metadata": {
        "id": "5OhB7LfLEikH",
        "colab": {
          "base_uri": "https://localhost:8080/"
        },
        "outputId": "8e977465-e0c7-4bcd-e601-ebf71a981e83"
      },
      "source": [
        "!pip3 install lxml"
      ],
      "execution_count": null,
      "outputs": [
        {
          "output_type": "stream",
          "name": "stdout",
          "text": [
            "Requirement already satisfied: lxml in /usr/local/lib/python3.7/dist-packages (4.2.6)\n"
          ]
        }
      ]
    },
    {
      "cell_type": "code",
      "metadata": {
        "colab": {
          "base_uri": "https://localhost:8080/"
        },
        "id": "fsw5XAsgNcqN",
        "outputId": "d24987a1-6d84-4005-8cad-317d19f50e01"
      },
      "source": [
        "!pip3 install lxml"
      ],
      "execution_count": null,
      "outputs": [
        {
          "output_type": "stream",
          "name": "stdout",
          "text": [
            "Requirement already satisfied: lxml in /usr/local/lib/python3.7/dist-packages (4.2.6)\n"
          ]
        }
      ]
    },
    {
      "cell_type": "code",
      "metadata": {
        "id": "v6r83c9xNcv2"
      },
      "source": [
        "import requests\n",
        "from bs4 import BeautifulSoup\n",
        "import json\n",
        "import lxml"
      ],
      "execution_count": null,
      "outputs": []
    },
    {
      "cell_type": "code",
      "metadata": {
        "colab": {
          "base_uri": "https://localhost:8080/"
        },
        "id": "Nps1g2T0yvpx",
        "outputId": "1dbbf6f9-fb10-432d-e3d0-77037c88ef5e"
      },
      "source": [
        "from google.colab import files\n",
        "!pip install --upgrade gupload"
      ],
      "execution_count": null,
      "outputs": [
        {
          "output_type": "stream",
          "name": "stdout",
          "text": [
            "Collecting gupload\n",
            "  Downloading gupload-1.1.0-py3-none-any.whl (4.7 kB)\n",
            "Collecting google-api-python-client==1.7.10\n",
            "  Downloading google_api_python_client-1.7.10-py3-none-any.whl (56 kB)\n",
            "\u001b[K     |████████████████████████████████| 56 kB 2.6 MB/s \n",
            "\u001b[?25hCollecting click==7.0\n",
            "  Downloading Click-7.0-py2.py3-none-any.whl (81 kB)\n",
            "\u001b[K     |████████████████████████████████| 81 kB 8.7 MB/s \n",
            "\u001b[?25hRequirement already satisfied: six<2dev,>=1.6.1 in /usr/local/lib/python3.7/dist-packages (from google-api-python-client==1.7.10->gupload) (1.15.0)\n",
            "Requirement already satisfied: uritemplate<4dev,>=3.0.0 in /usr/local/lib/python3.7/dist-packages (from google-api-python-client==1.7.10->gupload) (3.0.1)\n",
            "Requirement already satisfied: google-auth>=1.4.1 in /usr/local/lib/python3.7/dist-packages (from google-api-python-client==1.7.10->gupload) (1.35.0)\n",
            "Requirement already satisfied: google-auth-httplib2>=0.0.3 in /usr/local/lib/python3.7/dist-packages (from google-api-python-client==1.7.10->gupload) (0.0.4)\n",
            "Requirement already satisfied: httplib2<1dev,>=0.9.2 in /usr/local/lib/python3.7/dist-packages (from google-api-python-client==1.7.10->gupload) (0.17.4)\n",
            "Requirement already satisfied: rsa<5,>=3.1.4 in /usr/local/lib/python3.7/dist-packages (from google-auth>=1.4.1->google-api-python-client==1.7.10->gupload) (4.7.2)\n",
            "Requirement already satisfied: setuptools>=40.3.0 in /usr/local/lib/python3.7/dist-packages (from google-auth>=1.4.1->google-api-python-client==1.7.10->gupload) (57.4.0)\n",
            "Requirement already satisfied: cachetools<5.0,>=2.0.0 in /usr/local/lib/python3.7/dist-packages (from google-auth>=1.4.1->google-api-python-client==1.7.10->gupload) (4.2.2)\n",
            "Requirement already satisfied: pyasn1-modules>=0.2.1 in /usr/local/lib/python3.7/dist-packages (from google-auth>=1.4.1->google-api-python-client==1.7.10->gupload) (0.2.8)\n",
            "Requirement already satisfied: pyasn1<0.5.0,>=0.4.6 in /usr/local/lib/python3.7/dist-packages (from pyasn1-modules>=0.2.1->google-auth>=1.4.1->google-api-python-client==1.7.10->gupload) (0.4.8)\n",
            "Installing collected packages: google-api-python-client, click, gupload\n",
            "  Attempting uninstall: google-api-python-client\n",
            "    Found existing installation: google-api-python-client 1.12.8\n",
            "    Uninstalling google-api-python-client-1.12.8:\n",
            "      Successfully uninstalled google-api-python-client-1.12.8\n",
            "  Attempting uninstall: click\n",
            "    Found existing installation: click 7.1.2\n",
            "    Uninstalling click-7.1.2:\n",
            "      Successfully uninstalled click-7.1.2\n",
            "\u001b[31mERROR: pip's dependency resolver does not currently take into account all the packages that are installed. This behaviour is the source of the following dependency conflicts.\n",
            "earthengine-api 0.1.283 requires google-api-python-client<2,>=1.12.1, but you have google-api-python-client 1.7.10 which is incompatible.\u001b[0m\n",
            "Successfully installed click-7.0 google-api-python-client-1.7.10 gupload-1.1.0\n"
          ]
        }
      ]
    },
    {
      "cell_type": "code",
      "metadata": {
        "id": "r0wpVsHrNcyC"
      },
      "source": [
        "url_arh = 'http://www.mgzt.ru/archive'\n",
        "\n",
        "req = requests.get(url_arh)\n"
      ],
      "execution_count": null,
      "outputs": []
    },
    {
      "cell_type": "code",
      "metadata": {
        "colab": {
          "base_uri": "https://localhost:8080/",
          "height": 1000
        },
        "id": "d-9O6Qdt6TDo",
        "outputId": "fcd84bd8-c39e-4ab8-80f4-6d4f738517a1"
      },
      "source": [
        "req.text"
      ],
      "execution_count": null,
      "outputs": [
        {
          "output_type": "execute_result",
          "data": {
            "application/vnd.google.colaboratory.intrinsic+json": {
              "type": "string"
            },
            "text/plain": [
              "'<!DOCTYPE html PUBLIC \"-//W3C//DTD XHTML 1.0 Strict//EN\" \"http://www.w3.org/TR/xhtml1/DTD/xhtml1-strict.dtd\">\\n<html xmlns=\"http://www.w3.org/1999/xhtml\" lang=\"ru\" xml:lang=\"ru\">\\n\\n<head>\\n<meta http-equiv=\"Content-Type\" content=\"text/html; charset=utf-8\" />\\n  <meta http-equiv=\"X-UA-Compatible\" content=\"IE=EmulateIE7\" />  \\n  <meta http-equiv=\"Content-Type\" content=\"text/html; charset=utf-8\" />\\n<link rel=\"shortcut icon\" href=\"/misc/favicon.ico\" type=\"image/x-icon\" />\\n  <title>Архив | mgzt.ru</title>  \\n  <link type=\"text/css\" rel=\"stylesheet\" media=\"all\" href=\"/modules/aggregator/aggregator.css?V\" />\\n<link type=\"text/css\" rel=\"stylesheet\" media=\"all\" href=\"/modules/book/book.css?V\" />\\n<link type=\"text/css\" rel=\"stylesheet\" media=\"all\" href=\"/modules/node/node.css?V\" />\\n<link type=\"text/css\" rel=\"stylesheet\" media=\"all\" href=\"/modules/system/defaults.css?V\" />\\n<link type=\"text/css\" rel=\"stylesheet\" media=\"all\" href=\"/modules/system/system.css?V\" />\\n<link type=\"text/css\" rel=\"stylesheet\" media=\"all\" href=\"/modules/system/system-menus.css?V\" />\\n<link type=\"text/css\" rel=\"stylesheet\" media=\"all\" href=\"/modules/user/user.css?V\" />\\n<link type=\"text/css\" rel=\"stylesheet\" media=\"all\" href=\"/sites/all/modules/cck/theme/content-module.css?V\" />\\n<link type=\"text/css\" rel=\"stylesheet\" media=\"all\" href=\"/sites/all/modules/ckeditor/ckeditor.css?V\" />\\n<link type=\"text/css\" rel=\"stylesheet\" media=\"all\" href=\"/sites/all/modules/ctools/css/ctools.css?V\" />\\n<link type=\"text/css\" rel=\"stylesheet\" media=\"all\" href=\"/sites/all/modules/date/date.css?V\" />\\n<link type=\"text/css\" rel=\"stylesheet\" media=\"all\" href=\"/sites/all/modules/filefield/filefield.css?V\" />\\n<link type=\"text/css\" rel=\"stylesheet\" media=\"all\" href=\"/sites/all/modules/upload_element/upload_element.css?V\" />\\n<link type=\"text/css\" rel=\"stylesheet\" media=\"all\" href=\"/sites/all/modules/views_slideshow/contrib/views_slideshow_singleframe/views_slideshow.css?V\" />\\n<link type=\"text/css\" rel=\"stylesheet\" media=\"all\" href=\"/sites/all/modules/views_slideshow/contrib/views_slideshow_thumbnailhover/views_slideshow.css?V\" />\\n<link type=\"text/css\" rel=\"stylesheet\" media=\"all\" href=\"/sites/all/modules/cck/modules/fieldgroup/fieldgroup.css?V\" />\\n<link type=\"text/css\" rel=\"stylesheet\" media=\"all\" href=\"/sites/all/modules/views/css/views.css?V\" />\\n<link type=\"text/css\" rel=\"stylesheet\" media=\"all\" href=\"/sites/all/themes/freethemes4you_city_01_1/style.css?V\" />\\n  <script type=\"text/javascript\" src=\"/sites/default/files/js/js_6754ba92b0b52a8a9483518fff313a5f.js\"></script>\\n<script type=\"text/javascript\">\\n<!--//--><![CDATA[//><!--\\njQuery.extend(Drupal.settings, { \"basePath\": \"/\", \"jcarousel\": { \"ajaxPath\": \"/jcarousel/ajax/views\" }, \"views\": { \"ajax_path\": \"/views/ajax\", \"ajaxViews\": [ { \"view_name\": \"Magazine\", \"view_display_id\": \"block_7\", \"view_args\": \"\", \"view_path\": \"archive\", \"view_base_path\": \"news\", \"view_dom_id\": 2, \"pager_element\": 0 } ] } });\\n//--><!]]>\\n</script>\\n  <!--[if IE 6]><link rel=\"stylesheet\" href=\"/sites/all/themes/freethemes4you_city_01_1/style.ie6.css\" type=\"text/css\" /><![endif]-->  \\n  <!--[if IE 7]><link rel=\"stylesheet\" href=\"/sites/all/themes/freethemes4you_city_01_1/style.ie7.css\" type=\"text/css\" media=\"screen\" /><![endif]-->\\n  <script type=\"text/javascript\"> </script>\\n  <!--<script type=\"text/javascript\" src=\"js/jquery-1.2.1.js\"></script>-->\\n  <script type=\"text/javascript\" src=\"/sites/all/themes/freethemes4you_city_01_1/js/ui.datepicker.js\"></script>\\n</head>\\n\\n<body>\\n    <div id=\"art-page-background-gradient\"></div>\\n<div id=\"art-main\">\\n<div class=\"art-sheet\">\\n    <div class=\"art-sheet-tl\"></div>\\n    <div class=\"art-sheet-tr\"></div>\\n    <div class=\"art-sheet-bl\"></div>\\n    <div class=\"art-sheet-br\"></div>\\n    <div class=\"art-sheet-tc\"></div>\\n    <div class=\"art-sheet-bc\"></div>\\n    <div class=\"art-sheet-cl\"></div>\\n    <div class=\"art-sheet-cr\"></div>\\n    <div class=\"art-sheet-cc\"></div>\\n    <div class=\"art-sheet-body\">\\n<div class=\"art-header\">\\n    <a href=\"/\" title = \"\"><div class=\"art-header-jpeg\"></div></a><div id=\"banner2\"><div id=\"banner2-block-8\">\\n  \\t\\n  <div class=\"content\">\\n    <b><a href=\"/user/login\">Авторизация</a>/<a href=\"/user/register\">Регистрация</a></b> </p>\\n  </div>\\n</div><div id=\"banner2-block-10\">\\n  \\t\\n  <div class=\"content\">\\n    <!-- день и дата --><font color=#000000 size=3,5 face=Times New Roman, Times, serif>\\n<table width=\\'300\\' align=\\'center\\'>\\n   <tr>\\n      <td background=\\'/sites/default/files/pictures/time.gif\\'>\\n         чт,  14 октября 2021</td>    \\n   </tr>\\n   <tr >\\n      <td height=\\'3\\'> </td>    \\n   </tr>\\n</table></strong></font>\\n  </div>\\n</div></div></div>\\n<div class=\"art-nav\">\\n    <div class=\"l\"></div>\\n    <div class=\"r\"></div>\\n    <div class=\"ya-site-form ya-site-form_inited_no\" onclick=\"return {\\'action\\':\\'http://www.mgzt.ru/info/\\',\\'arrow\\':false,\\'bg\\':\\'transparent\\',\\'fontsize\\':12,\\'fg\\':\\'#000000\\',\\'language\\':\\'ru\\',\\'logo\\':\\'rb\\',\\'publicname\\':\\'Поиск по сайту mgzt.ru\\',\\'suggest\\':true,\\'target\\':\\'_self\\',\\'tld\\':\\'ru\\',\\'type\\':2,\\'usebigdictionary\\':true,\\'searchid\\':2309362,\\'input_fg\\':\\'#666666\\',\\'input_bg\\':\\'#ffffff\\',\\'input_fontStyle\\':\\'normal\\',\\'input_fontWeight\\':\\'normal\\',\\'input_placeholder\\':\\'\\',\\'input_placeholderColor\\':\\'#000000\\',\\'input_borderColor\\':\\'#999999\\'}\"><form action=\"https://yandex.ru/search/site/\" method=\"get\" target=\"_self\" accept-charset=\"utf-8\"><input type=\"hidden\" name=\"searchid\" value=\"2309362\"/><input type=\"hidden\" name=\"l10n\" value=\"ru\"/><input type=\"hidden\" name=\"reqenc\" value=\"\"/><input type=\"search\" name=\"text\" value=\"\"/><input type=\"submit\" value=\"Поиск\"/></form></div><style type=\"text/css\">.ya-page_js_yes .ya-site-form_inited_no { display: none; } #ya-site-form0 {float: right; display:inline; margin: -21px 0 0 0;}</style><script type=\"text/javascript\">(function(w,d,c){var s=d.createElement(\\'script\\'),h=d.getElementsByTagName(\\'script\\')[0],e=d.documentElement;if((\\' \\'+e.className+\\' \\').indexOf(\\' ya-page_js_yes \\')===-1){e.className+=\\' ya-page_js_yes\\';}s.type=\\'text/javascript\\';s.async=true;s.charset=\\'utf-8\\';s.src=(d.location.protocol===\\'https:\\'?\\'https:\\':\\'http:\\')+\\'//site.yandex.net/v2.0/js/all.js\\';h.parentNode.insertBefore(s,h);(w[c]||(w[c]=[])).push(function(){Ya.Site.Form.init()})})(window,document,\\'yandex_site_callbacks\\');</script>\\n<div id=\"art-menu-id\"><ul class=\"art-menu\"><li class=\"leaf first\"><a href=\"/about\" title=\"&#1054; &#1075;&#1072;&#1079;&#1077;&#1090;&#1077;\"><span class=\"l\"> </span><span class=\"r\"> </span><span class=\"t\">&#1054; &#1075;&#1072;&#1079;&#1077;&#1090;&#1077;</span></a></li>\\n<li class=\"leaf\"><a href=\"/subscription\" title=\"&#1055;&#1086;&#1076;&#1087;&#1080;&#1089;&#1082;&#1072;\"><span class=\"l\"> </span><span class=\"r\"> </span><span class=\"t\">&#1055;&#1086;&#1076;&#1087;&#1080;&#1089;&#1082;&#1072;</span></a></li>\\n<li class=\"leaf active-trail active\"><a href=\"/archive\" title=\"&#1072;&#1088;&#1093;&#1080;&#1074; &#1074;&#1099;&#1087;&#1091;&#1089;&#1082;&#1086;&#1074;\" class=\"active active\"><span class=\"l\"> </span><span class=\"r\"> </span><span class=\"t\">&#1040;&#1056;&#1061;&#1048;&#1042;</span></a></li>\\n<li class=\"leaf\"><a href=\"/articles\" title=\"&#1057;&#1090;&#1072;&#1090;&#1100;&#1080;\"><span class=\"l\"> </span><span class=\"r\"> </span><span class=\"t\">&#1057;&#1090;&#1072;&#1090;&#1100;&#1080;</span></a></li>\\n<li class=\"leaf\"><a href=\"/action\" title=\"&#1053;&#1072;&#1096;&#1080; &#1072;&#1082;&#1094;&#1080;&#1080;\"><span class=\"l\"> </span><span class=\"r\"> </span><span class=\"t\">&#1053;&#1072;&#1096;&#1080; &#1072;&#1082;&#1094;&#1080;&#1080;</span></a></li>\\n<li class=\"leaf\"><a href=\"/information\" title=\"&#1048;&#1085;&#1092;&#1086;&#1088;&#1084;&#1072;&#1094;&#1080;&#1103;\"><span class=\"l\"> </span><span class=\"r\"> </span><span class=\"t\">&#1048;&#1085;&#1092;&#1086;&#1088;&#1084;&#1072;&#1094;&#1080;&#1103;</span></a></li>\\n<li class=\"leaf last\"><a href=\"/contacts\" title=\"&#1050;&#1086;&#1085;&#1090;&#1072;&#1082;&#1090;&#1099;\"><span class=\"l\"> </span><span class=\"r\"> </span><span class=\"t\">&#1050;&#1086;&#1085;&#1090;&#1072;&#1082;&#1090;&#1099;</span></a></li>\\n</ul></div>\\n</div>\\n<div class=\"art-content-layout\">\\n    <div class=\"art-content-layout-row\">\\n<div class=\"art-layout-cell art-content-sidebar2\">\\n<div class=\"breadcrumb\"><a href=\"/\">Главная</a></div><!---->\\n<div class=\"art-post\">\\n    <div class=\"art-post-body\">\\n<div class=\"art-post-inner\">\\n<div class=\"art-postcontent\">\\n    <!-- article-content -->\\n<h2>Архив</h2><div class=\"view view-archive view-id-archive view-display-id-page view-dom-id-1\">\\n    \\n  \\n  \\n      <div class=\"view-content\">\\n      <div class=\"item-list\">\\n  <ul class=\"views-summary\">\\n      <li><a href=\"/archive/2021\">2021</a>\\n              (40)\\n          </li>\\n      <li><a href=\"/archive/2020\">2020</a>\\n              (51)\\n          </li>\\n      <li><a href=\"/archive/2019\">2019</a>\\n              (50)\\n          </li>\\n      <li><a href=\"/archive/2018\">2018</a>\\n              (51)\\n          </li>\\n      <li><a href=\"/archive/2017\">2017</a>\\n              (98)\\n          </li>\\n      <li><a href=\"/archive/2016\">2016</a>\\n              (97)\\n          </li>\\n      <li><a href=\"/archive/2015\">2015</a>\\n              (98)\\n          </li>\\n      <li><a href=\"/archive/2014\">2014</a>\\n              (97)\\n          </li>\\n      <li><a href=\"/archive/2013\">2013</a>\\n              (97)\\n          </li>\\n      <li><a href=\"/archive/2012\">2012</a>\\n              (96)\\n          </li>\\n      <li><a href=\"/archive/2011\">2011</a>\\n              (100)\\n          </li>\\n      <li><a href=\"/archive/2010\">2010</a>\\n              (99)\\n          </li>\\n      <li><a href=\"/archive/2009\">2009</a>\\n              (98)\\n          </li>\\n      <li><a href=\"/archive/2008\">2008</a>\\n              (99)\\n          </li>\\n      <li><a href=\"/archive/2007\">2007</a>\\n              (99)\\n          </li>\\n      <li><a href=\"/archive/2006\">2006</a>\\n              (25)\\n          </li>\\n    </ul>\\n</div>\\n    </div>\\n  \\n  \\n  \\n  \\n  \\n  \\n</div> \\n    <!-- /article-content -->\\n</div>\\n<div class=\"cleared\"></div>\\n\\n</div>\\n\\n    </div>\\n</div>\\n</div>\\n<div class=\"art-layout-cell art-sidebar2\"><div class=\"art-block clear-block block block-block\" id=\"block-block-13\">\\n    <div class=\"art-block-body\">\\n\\n\\t<div class=\"art-blockcontent content\">\\n\\t    <div class=\"art-blockcontent-body\">\\n\\t<!-- block-content -->\\n\\t\\n\\t\\t<p><a href=\"http://mgzt.ru/subscription\">ОФОРМИТЬ ПОДПИСКУ</a></p>\\n\\n\\t<!-- /block-content -->\\n\\t\\n\\t    </div>\\n\\t</div>\\n\\t\\n\\n    </div>\\n</div>\\n<div class=\"art-block clear-block block block-views\" id=\"block-views-Magazine-block_7\">\\n    <div class=\"art-block-body\">\\n\\n\\t<div class=\"art-blockcontent content\">\\n\\t    <div class=\"art-blockcontent-body\">\\n\\t<!-- block-content -->\\n\\t\\n\\t\\t<div class=\"view view-Magazine view-id-Magazine view-display-id-block_7 view-dom-id-2\">\\n    \\n  \\n  \\n      <div class=\"view-content\">\\n        <div class=\"views-row views-row-1 views-row-odd views-row-first views-row-last\">\\n      \\n  <div class=\"views-field-title\">\\n                <span class=\"field-content\"><a href=\"/40-ot-13102021g\">№ 40 от 13.10.2021г.</a></span>\\n  </div>\\n  \\n  <div class=\"views-field-image-attach-images\">\\n                <span class=\"field-content\"><div class=\"image-attach-node-17096\" style=\"width: 131px;\"><a href=\"/40-ot-13102021g\"><img src=\"http://www.mgzt.ru/sites/default/files/images/20050.thumbnail.jpg\" alt=\"20050.jpg\" title=\"20050.jpg\"  class=\"image image-thumbnail \" width=\"131\" height=\"185\" /></a></div></span>\\n  </div>\\n  </div>\\n    </div>\\n  \\n  \\n  \\n  \\n  \\n  \\n</div> \\n\\t<!-- /block-content -->\\n\\t\\n\\t    </div>\\n\\t</div>\\n\\t\\n\\n    </div>\\n</div>\\n<div class=\"art-block clear-block block block-menu\" id=\"block-menu-secondary-links\">\\n    <div class=\"art-block-body\">\\n\\n\\t<div class=\"art-blockheader\">\\n\\t\\t    <div class=\"l\"></div>\\n\\t\\t    <div class=\"r\"></div>\\n\\t\\t     <div class=\"t\">\\t\\n\\t\\t\\t<h2 class=\"subject\">Статьи</h2>\\n</div>\\n\\t\\t</div>\\n\\t\\t    \\n\\t<div class=\"art-blockcontent content\">\\n\\t    <div class=\"art-blockcontent-body\">\\n\\t<!-- block-content -->\\n\\t\\n\\t\\t<ul class=\"menu\"><li class=\"leaf first\"><a href=\"/articles/%D0%B7%D0%B4%D1%80%D0%B0%D0%B2%D0%BE%D0%BE%D1%85%D1%80%D0%B0%D0%BD%D0%B5%D0%BD%D0%B8%D0%B5\" title=\"Здравоохранение\">Здравоохранение</a></li>\\n<li class=\"leaf\"><a href=\"/articles/%D0%BC%D0%B5%D0%B4%D0%B8%D1%86%D0%B8%D0%BD%D0%B0-%D0%B8-%D0%BE%D0%B1%D1%89%D0%B5%D1%81%D1%82%D0%B2%D0%BE\" title=\"Медицина и общество\">Медицина и общество</a></li>\\n<li class=\"leaf\"><a href=\"/clinical\" title=\"Клинические рекомендации\">Клинические рекомендации</a></li>\\n<li class=\"leaf\"><a href=\"/articles/%D1%81%D1%82%D1%80%D0%B0%D0%BD%D0%B8%D1%86%D0%B0-%D1%84%D0%B0%D1%80%D0%BC%D0%B0%D1%86%D0%B5%D0%B2%D1%82%D0%B0\" title=\"Страница фармацевта\">Страница фармацевта</a></li>\\n<li class=\"leaf\"><a href=\"/articles/%D0%BD%D0%B0%D1%83%D0%BA%D0%B0-%D0%B8-%D0%BF%D1%80%D0%B0%D0%BA%D1%82%D0%B8%D0%BA%D0%B0\" title=\"Наука и практика\">Наука и практика</a></li>\\n<li class=\"leaf\"><a href=\"/articles/%D0%BC%D0%B8%D1%80-%D0%B8-%D0%B7%D0%B4%D0%BE%D1%80%D0%BE%D0%B2%D1%8C%D0%B5\" title=\"Мир и здоровье\">Мир и здоровье</a></li>\\n<li class=\"leaf\"><a href=\"/articles/%D0%BD%D0%B0%D1%83%D0%BA%D0%B0-%D0%B7%D0%B0-%D1%80%D1%83%D0%B1%D0%B5%D0%B6%D0%BE%D0%BC\" title=\"Наука за рубежом\">Наука за рубежом</a></li>\\n<li class=\"leaf\"><a href=\"/articles/%D0%B2%D1%80%D0%B5%D0%BC%D1%8F-%D0%B8-%D0%BC%D1%8B\" title=\"время и мы\">Время и мы</a></li>\\n<li class=\"leaf last\"><a href=\"/articles/%D0%B0%D0%B2%D1%82%D0%BE%D0%B3%D1%80%D0%B0%D1%84-%D0%B4%D0%BB%D1%8F-%D0%BC%D0%B3\" title=\"Автограф для &quot;МГ&quot;\">Автограф для &quot;МГ&quot;</a></li>\\n</ul>\\n\\t<!-- /block-content -->\\n\\t\\n\\t    </div>\\n\\t</div>\\n\\t\\n\\n    </div>\\n</div>\\n<div class=\"art-block clear-block block block-views\" id=\"block-views-rotor-block_5\">\\n    <div class=\"art-block-body\">\\n\\n\\t<div class=\"art-blockcontent content\">\\n\\t    <div class=\"art-blockcontent-body\">\\n\\t<!-- block-content -->\\n\\t\\n\\t\\t<div class=\"view view-rotor view-id-rotor view-display-id-block_5 view-dom-id-4\">\\n    \\n  \\n  \\n      <div class=\"view-content\">\\n      <table class=\"views-view-grid col-1\">\\n  <tbody>\\n                <tr class=\"row-1 row-first row-last\">\\n                  <td class=\"col-1 col-first\">\\n              \\n  <div class=\"views-field-image-attach-images\">\\n                <span class=\"field-content\"></span>\\n  </div>\\n  \\n  <div class=\"views-field-body\">\\n                <div class=\"field-content\"><p class=\"rtecenter\"><a href=\"http://medprofsouz.ru/\" target=\"_blank\"><img alt=\"\" src=\"/sites/default/files/rotor/medprofsouz124x179.png\" style=\"width: 124px; height: 179px;\" /></a></p></div>\\n  </div>\\n          </td>\\n              </tr>\\n      </tbody>\\n</table>\\n    </div>\\n  \\n  \\n  \\n  \\n  \\n  \\n</div> \\n\\t<!-- /block-content -->\\n\\t\\n\\t    </div>\\n\\t</div>\\n\\t\\n\\n    </div>\\n</div>\\n</div>\\n    </div>\\n</div>\\n<div class=\"cleared\"></div>\\n<!---->\\n<!---->\\n<div id=\"banner6\"><div id=\"banner6-block-11\">\\n  \\t\\n  <div class=\"content\">\\n    <p class=\"rtecenter\"><span style=\"font-size:12px;\"><a href=\"http://mgzt.ru/articles/здравоохранение\">Здравоохранение</a><a href=\"http://mgzt.ru/articles/медицина-и-общество\">Медицина и общество</a><a href=\"http://mgzt.ru/attention\">В центре внимания</a><a href=\"http://mgzt.ru/clinical\">Клинические рекомендации</a><a href=\"http://mgzt.ru/articles/страница-фармацевта\">Страница фармацевта</a><a href=\"http://mgzt.ru/articles/наука-и-практика\">Наука и практика</a><a href=\"http://mgzt.ru/articles/мир-и-здоровье\">Мир и здоровье</a></span></p>\\n<p class=\"rtecenter\"><span style=\"font-size:12px;\"><a href=\"http://mgzt.ru/articles/наука-за-рубежом\">Наука за рубежом</a></span><a href=\"http://mgzt.ru/articles/время-и-мы\" style=\"font-size: 12px;\">Время и мы</a><a href=\"http://mgzt.ru/articles/автограф-для-мг\" style=\"font-size: 12px;\">Автограф для &quot;МГ&quot;</a></p>\\n  </div>\\n</div></div><div class=\"art-footer\">\\n    <div class=\"art-footer-inner\">\\n        <div class=\"art-footer-rss\"><a href=\"http://mgzt.ru/rss.xml\">        <img src=\"http://mgzt.ru/sites/default/files/images/rssicon.png\" alt=\"rss\" title=\"rss\" width=\"29\" height=\"27\"/></a></div>\\n        <div class=\"art-footer-sitemap\"><a href=\"http://mgzt.ru/sitemap\"><img src=\"http://mgzt.ru/sites/default/files/images/sitemap.png\" alt=\"карта сайта\" title=\"карта сайта\" width=\"35\" height=\"25\" /></a></div>\\n        <div class=\"art-footer-count\">\\n        <!-- begin of Top100 logo -->\\n<a href=\"http://top100.rambler.ru/navi/1058911/\">\\n<img src=\"http://top100-images.rambler.ru/top100/banner-88x31-rambler-gray2.gif\" alt=\"Rambler\\'s Top100\"\\nwidth=\"88\" height=\"31\" border=\"0\" /></a>\\n<!-- end of Top100 logo -->\\n\\n</div>\\n        <div class=\"art-footer-text\">\\n        <p><a href=\"http://mgzt.ru/about\">О газете</a>&nbsp;|&nbsp;<a href=\"http://mgzt.ru/subscription\">Подписка</a>&nbsp;|&nbsp;<a href=\"http://mgzt.ru/archive\">Архив</a>&nbsp;|&nbsp;<a href=\"http://mgzt.ru/contacts\">Контакты</a><br />Copyright &copy; 2006&nbsp;</p>                </div>\\n       \\n    </div>\\n    <div class=\"art-footer-background\"></div>\\n</div>\\n\\n    </div>\\n</div>\\n<div class=\"cleared\"></div>\\n<p class=\"art-page-footer\"></p>\\n\\n</div>\\n\\n\\n<script type=\"text/javascript\">\\n$(document).ready(function(){\\n  // ---- Календарь -----\\n  $(\\'#edit-role-expire-5\\').attachDatepicker(); \\n  $(\\'#edit-date\\').attachDatepicker();\\n  // ---- Календарь -----\\n});\\n</script>\\n<!-- begin of Top100 code -->\\n\\n<script id=\"top100Counter\" type=\"text/javascript\" src=\"http://counter.rambler.ru/top100.jcn?1058911\"></script>\\n<noscript>\\n<img src=\"http://counter.rambler.ru/top100.cnt?1058911\" alt=\"\" width=\"1\" height=\"1\" border=\"0\" />\\n\\n</noscript>\\n<!-- end of Top100 code -->\\n</body>\\n</html>'"
            ]
          },
          "metadata": {},
          "execution_count": 4
        }
      ]
    },
    {
      "cell_type": "code",
      "metadata": {
        "id": "Qz0dN5jjQyNQ"
      },
      "source": [
        "HTTP = 'http://www.mgzt.ru'"
      ],
      "execution_count": null,
      "outputs": []
    },
    {
      "cell_type": "code",
      "metadata": {
        "id": "qWFDp9iX8zoN"
      },
      "source": [
        "LIST_HREF_BLOG__ = []"
      ],
      "execution_count": null,
      "outputs": []
    },
    {
      "cell_type": "code",
      "metadata": {
        "id": "5q880ESy3ZeB"
      },
      "source": [
        "GLIBAL_BLOG_DICT = {}"
      ],
      "execution_count": null,
      "outputs": []
    },
    {
      "cell_type": "code",
      "metadata": {
        "id": "sdD61nCqQdgn"
      },
      "source": [
        "GLOBAL_DICT_TXT_HREF = {}"
      ],
      "execution_count": null,
      "outputs": []
    },
    {
      "cell_type": "code",
      "metadata": {
        "id": "6EgvE66FVBDN"
      },
      "source": [
        "GLOBAL_LIST_HREF = []"
      ],
      "execution_count": null,
      "outputs": []
    },
    {
      "cell_type": "code",
      "metadata": {
        "id": "5FZXF_iQ6xyZ"
      },
      "source": [
        "HREF = []"
      ],
      "execution_count": null,
      "outputs": []
    },
    {
      "cell_type": "code",
      "metadata": {
        "id": "2wS9BVc7Z70T"
      },
      "source": [
        "PAGES = []"
      ],
      "execution_count": null,
      "outputs": []
    },
    {
      "cell_type": "markdown",
      "metadata": {
        "id": "bkDjpzbSyyQn"
      },
      "source": [
        ""
      ]
    },
    {
      "cell_type": "code",
      "metadata": {
        "id": "9dvBiB7NWL4f"
      },
      "source": [
        "GLOBAL_HREF = []"
      ],
      "execution_count": null,
      "outputs": []
    },
    {
      "cell_type": "code",
      "metadata": {
        "id": "l7VtN3pzfeb9"
      },
      "source": [
        "list1 = []\n"
      ],
      "execution_count": null,
      "outputs": []
    },
    {
      "cell_type": "code",
      "metadata": {
        "id": "_f9S2HwGNc0g"
      },
      "source": [
        "with open(\"html_files/mainPage.html\", 'w', encoding=\"utf-8\") as file:\n",
        "    file.write(req.text)\n",
        "\n",
        "file = open('/content/html_files/mainPage.html', 'r', encoding='utf-8')\n",
        "html_body= file.read()\n",
        "\n",
        "soup = BeautifulSoup(html_body, 'lxml')\n"
      ],
      "execution_count": null,
      "outputs": []
    },
    {
      "cell_type": "code",
      "metadata": {
        "id": "V9bMzf4BNc4B"
      },
      "source": [
        "href_doc = soup.find('ul', class_=\"views-summary\").find_all('a')"
      ],
      "execution_count": null,
      "outputs": []
    },
    {
      "cell_type": "code",
      "metadata": {
        "id": "XWRaYUCUPdcy"
      },
      "source": [
        "for item in href_doc:\n",
        "  GLOBAL_DICT_TXT_HREF[item.text] = HTTP + item.get('href')"
      ],
      "execution_count": null,
      "outputs": []
    },
    {
      "cell_type": "code",
      "metadata": {
        "colab": {
          "base_uri": "https://localhost:8080/"
        },
        "id": "vx74lR8gQgMs",
        "outputId": "7bd5ee5a-b6b9-459f-9f04-4fdea27b11c3"
      },
      "source": [
        "for key, item in GLOBAL_DICT_TXT_HREF.items():\n",
        "  print(f'{key}, {item}')"
      ],
      "execution_count": null,
      "outputs": [
        {
          "output_type": "stream",
          "name": "stdout",
          "text": [
            "2021, http://www.mgzt.ru/archive/2021\n",
            "2020, http://www.mgzt.ru/archive/2020\n",
            "2019, http://www.mgzt.ru/archive/2019\n",
            "2018, http://www.mgzt.ru/archive/2018\n",
            "2017, http://www.mgzt.ru/archive/2017\n",
            "2016, http://www.mgzt.ru/archive/2016\n",
            "2015, http://www.mgzt.ru/archive/2015\n",
            "2014, http://www.mgzt.ru/archive/2014\n",
            "2013, http://www.mgzt.ru/archive/2013\n",
            "2012, http://www.mgzt.ru/archive/2012\n",
            "2011, http://www.mgzt.ru/archive/2011\n",
            "2010, http://www.mgzt.ru/archive/2010\n",
            "2009, http://www.mgzt.ru/archive/2009\n",
            "2008, http://www.mgzt.ru/archive/2008\n",
            "2007, http://www.mgzt.ru/archive/2007\n",
            "2006, http://www.mgzt.ru/archive/2006\n"
          ]
        }
      ]
    },
    {
      "cell_type": "code",
      "metadata": {
        "id": "N6U8-wVRTZjM"
      },
      "source": [
        "for item, href in GLOBAL_DICT_TXT_HREF.items():\n",
        "  req = requests.get(href)\n",
        "  with open(f\"arh_years/{item}.html\", 'w', encoding=\"utf-8\") as file:\n",
        "    file.write(req.text)\n",
        "\n"
      ],
      "execution_count": null,
      "outputs": []
    },
    {
      "cell_type": "code",
      "metadata": {
        "id": "16KmB9UyUSsx"
      },
      "source": [
        "for item, href in GLOBAL_DICT_TXT_HREF.items():\n",
        "  file = open(f\"arh_years/{item}.html\", 'r', encoding='utf-8')\n",
        "  html_body= file.read()\n",
        "\n",
        "  soup = BeautifulSoup(html_body, 'lxml')\n",
        "  GLOBAL_LIST_HREF.append(soup.find('ul', class_=\"views-summary\").find_all('a'))\n"
      ],
      "execution_count": null,
      "outputs": []
    },
    {
      "cell_type": "code",
      "metadata": {
        "id": "717xkZpKVl4M"
      },
      "source": [
        "for item in GLOBAL_LIST_HREF:\n",
        "  for i in item:\n",
        "    print(i)\n",
        "    GLOBAL_HREF.append(HTTP + i.get('href'))\n",
        "    \n",
        "      \n",
        "    \n",
        "    "
      ],
      "execution_count": null,
      "outputs": []
    },
    {
      "cell_type": "code",
      "metadata": {
        "id": "iTpcGyvwXI-9"
      },
      "source": [
        "enum = 1\n",
        "for item in GLOBAL_HREF:\n",
        "  req = requests.get(item)\n",
        "  with open(f\"list_href/div{enum}.html\", 'w', encoding=\"utf-8\") as file:\n",
        "    file.write(req.text)\n",
        "  enum += 1\n",
        "\n",
        "\n",
        "  "
      ],
      "execution_count": null,
      "outputs": []
    },
    {
      "cell_type": "code",
      "metadata": {
        "colab": {
          "base_uri": "https://localhost:8080/"
        },
        "id": "4yo_Eq5QZI38",
        "outputId": "cd5e695f-3d97-4f45-d892-66fb1154353c"
      },
      "source": [
        "print(enum)"
      ],
      "execution_count": null,
      "outputs": [
        {
          "output_type": "stream",
          "name": "stdout",
          "text": [
            "181\n"
          ]
        }
      ]
    },
    {
      "cell_type": "code",
      "metadata": {
        "id": "dYk6QKXgZP3B"
      },
      "source": [
        "for count_pages in range(1, 181):\n",
        "    file = open(f\"list_href/div{count_pages}.html\", 'r', encoding='utf-8')\n",
        "    html_body= file.read()\n",
        "    soup = BeautifulSoup(html_body, 'lxml')\n",
        "    list_item_div = soup.find('div', class_ = 'item-list').find_all('li')\n",
        "    with open(f\"div_ul/div{count_pages}.html\", 'w', encoding=\"utf-8\") as file:\n",
        "      for item in list_item_div:\n",
        "        file.write(str(item))\n",
        "        \n",
        "\n",
        "    \n",
        "\n",
        "\n",
        "\n"
      ],
      "execution_count": null,
      "outputs": []
    },
    {
      "cell_type": "code",
      "metadata": {
        "id": "QvWO8lerzWoz"
      },
      "source": [
        "enumerate_item = 1\n",
        "for count_pages in range(1, 181):\n",
        "  file = open(f\"div_ul/div{count_pages}.html\", 'r', encoding='utf-8')\n",
        "  html_body= file.read()\n",
        "  soup = BeautifulSoup(html_body, 'lxml')\n",
        "  list_href_blog = soup.find_all('a') \n",
        "  with open(f\"href/div{count_pages}.html\", 'w', encoding=\"utf-8\") as file:   \n",
        "    for item in list_href_blog:\n",
        "      file.write(str(item))\n",
        "      \n",
        "        \n",
        "\n",
        "      \n"
      ],
      "execution_count": null,
      "outputs": []
    },
    {
      "cell_type": "code",
      "metadata": {
        "id": "uMwdHvBJ6NxI"
      },
      "source": [
        "enumerate_item = 1\n",
        "for count_pages in range(1, 181):\n",
        "  file = open(f\"div_ul/div{count_pages}.html\", 'r', encoding='utf-8')\n",
        "  html_body= file.read()\n",
        "  soup = BeautifulSoup(html_body, 'lxml')\n",
        "  list_href_blog = soup.find_all('a') \n",
        "  for item in list_href_blog:\n",
        "    print(f'в файл записан номер{count_pages} {item.text}')\n",
        "\n",
        "    "
      ],
      "execution_count": null,
      "outputs": []
    },
    {
      "cell_type": "code",
      "metadata": {
        "id": "bTB_7dQL2Cvl"
      },
      "source": [
        "key = 0\n",
        "for count_pages in range(1, 181):\n",
        "  file = open(f\"href/div{count_pages}.html\", 'r', encoding='utf-8')\n",
        "  html_body= file.read()\n",
        "  soup = BeautifulSoup(html_body, 'lxml')\n",
        "  list_href_blog = soup.find_all('a')\n",
        "  for item in list_href_blog:\n",
        "    LIST_HREF_BLOG__.append(HTTP + item.get('href'))\n",
        "    \n",
        "    \n",
        "    \n",
        "\n",
        "     \n",
        "\n"
      ],
      "execution_count": null,
      "outputs": []
    },
    {
      "cell_type": "code",
      "metadata": {
        "id": "eKjkpyVIC9r0"
      },
      "source": [
        "get_enum = 1\n",
        "for item in LIST_HREF_BLOG__:\n",
        "  req = requests.get(item)\n",
        "  with open(f\"html_categ/mainPage{get_enum}.html\", 'w', encoding=\"utf-8\") as file:\n",
        "    file.write(req.text)\n",
        "  get_enum += 1 \n",
        "\n",
        "\n",
        "\n"
      ],
      "execution_count": null,
      "outputs": []
    },
    {
      "cell_type": "code",
      "metadata": {
        "colab": {
          "base_uri": "https://localhost:8080/"
        },
        "id": "7VSGn5FEJgRq",
        "outputId": "bcc48731-ee64-4485-ced8-4376928ded36"
      },
      "source": [
        "print(len(LIST_HREF_BLOG__))"
      ],
      "execution_count": null,
      "outputs": [
        {
          "output_type": "stream",
          "name": "stdout",
          "text": [
            "1293\n"
          ]
        }
      ]
    },
    {
      "cell_type": "code",
      "metadata": {
        "id": "8Ot6vay3Y6ei"
      },
      "source": [
        "for i in range(1, 1293):\n",
        "    file = open(f\"html_categ/mainPage{i}.html\", 'r', encoding='utf-8')\n",
        "    html_body = file.read()\n",
        "    soup = BeautifulSoup(html_body, 'lxml')\n",
        "    tegs = soup.find('ul', class_='menu').find_all('a')\n",
        "    for item in tegs:\n",
        "      PAGES.append(HTTP + item.get('href'))\n",
        "\n",
        "\n"
      ],
      "execution_count": null,
      "outputs": []
    },
    {
      "cell_type": "code",
      "metadata": {
        "id": "MGUK5124aK1k"
      },
      "source": [
        "get_enum_pages = 1\n",
        "for item in PAGES:\n",
        "  req = requests.get(item)\n",
        "  with open(f\"pages/page{get_enum_pages}.html\", 'w', encoding=\"utf-8\") as file:\n",
        "    file.write(req.text)\n",
        "  get_enum_pages += 1 \n",
        "    \n"
      ],
      "execution_count": null,
      "outputs": []
    },
    {
      "cell_type": "code",
      "metadata": {
        "colab": {
          "base_uri": "https://localhost:8080/"
        },
        "id": "V_QiZJ78y1e9",
        "outputId": "9ec50fd1-7ca9-4028-fe22-13162b440455"
      },
      "source": [
        "!ls"
      ],
      "execution_count": null,
      "outputs": [
        {
          "output_type": "stream",
          "name": "stdout",
          "text": [
            "arh_years  href        html_files  pages\ttext\n",
            "div_ul\t   html_categ  list_href   sample_data\tuntitled\n"
          ]
        }
      ]
    },
    {
      "cell_type": "code",
      "metadata": {
        "id": "qFSFy2SNxV-k"
      },
      "source": [
        "for i in range(1, 4471):\n",
        "    file = open(f\"pages/page{i}.html\", 'r', encoding='utf-8')\n",
        "    html_body = file.read()\n",
        "    soup = BeautifulSoup(html_body, 'lxml')\n",
        "    text = soup.find('div', class_='art-article')\n",
        "    if text:\n",
        "      with open(f\"filter_files/page{i}.html\", 'w', encoding=\"utf-8\") as file:        \n",
        "        file.write(str(text))\n"
      ],
      "execution_count": null,
      "outputs": []
    },
    {
      "cell_type": "code",
      "metadata": {
        "id": "YdIxmMTO8lv9"
      },
      "source": [
        "counter = 1\n",
        "for i in range(1, 4471):\n",
        "    try:\n",
        "\n",
        "      file = open(f\"/content/filter_files/page{i}.html\", 'r', encoding='utf-8')\n",
        "      html_body = file.read()\n",
        "      soup = BeautifulSoup(html_body, 'lxml')\n",
        "      txt = soup.find_all('p')\n",
        "      with open(f\"TEXT/text{counter}.text\", 'w', encoding=\"utf-8\") as file:                \n",
        "        for item in txt:\n",
        "          file.write(item.text)\n",
        "      counter +=1\n",
        "    except FileNotFoundError:\n",
        "      print(f'файл {i} не найден')\n"
      ],
      "execution_count": null,
      "outputs": []
    },
    {
      "cell_type": "code",
      "metadata": {
        "id": "Y7Iy5aUUy8UW"
      },
      "source": [
        "!rm test/test1"
      ],
      "execution_count": null,
      "outputs": []
    },
    {
      "cell_type": "code",
      "metadata": {
        "id": "cAOLKzDpzU0E"
      },
      "source": [
        "for index_page in range(1, 3454):\n",
        "  !cp 'TEXT/text{index_page}.text' /content/drive/MyDrive/med_txt2/\n",
        "\n",
        "\n",
        "  \n"
      ],
      "execution_count": null,
      "outputs": []
    }
  ]
}